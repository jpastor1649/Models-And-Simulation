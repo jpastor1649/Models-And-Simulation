{
  "cells": [
    {
      "cell_type": "markdown",
      "metadata": {
        "id": "view-in-github",
        "colab_type": "text"
      },
      "source": [
        "<a href=\"https://colab.research.google.com/github/jpastor1649/Models-And-Simulation/blob/main/Simulations/Ejercicio_modelos_2_6.ipynb\" target=\"_parent\"><img src=\"https://colab.research.google.com/assets/colab-badge.svg\" alt=\"Open In Colab\"/></a>"
      ]
    },
    {
      "cell_type": "markdown",
      "metadata": {
        "id": "injkNldvxUwB"
      },
      "source": [
        "2.6) Una cadena hotelera tiene dos buses para recoger y dejar personas en un aeropuerto local y dos hoteles separados. Los buses viajan desde el aeropuerto al hotel 1, luego al hotel 2, y regresan al aeropuerto para continuar con este patrón. El tiempo de viaje entre cada lugar sigue una distribución normal con una media de 20 y una desviación estándar de 2 minutos. El tiempo de llegada de los viajeros desde sus vuelos se distribuye exponencial con una media de 2.5 minutos. Cincuenta por ciento de las personan se bajan en el primer hotel, y el bus recoge personas de este hotel que desean ir al aeropuerto. El otro cincuenta por ciento de las personas se baja en el segundo hotel, y el bus recoge nuevamente personas. En el aeropuerto, todo el mundo se baja. En ambos hoteles las personas llegan al paradero del bus para ir al aeropuerto con tiempos entre llegadas exponenciales con media de 5 minutos. Simular el sistema donde el primer bus sale del aeropuerto al iniciar la simulación y el segundo sale del aeropuerto 30 minutos después del primero. Determine la cantidad de asientos requeridos en ambos buses tal que cualquier persona esperando pueda ser recogida."
      ]
    },
    {
      "cell_type": "code",
      "execution_count": 2,
      "metadata": {
        "colab": {
          "base_uri": "https://localhost:8080/"
        },
        "id": "zeuW2JXYT_Oc",
        "outputId": "f030d417-ac3d-43c2-c4f4-2ea04a5565f6"
      },
      "outputs": [
        {
          "output_type": "stream",
          "name": "stdout",
          "text": [
            "Collecting simpy\n",
            "  Downloading simpy-4.1.1-py3-none-any.whl.metadata (6.1 kB)\n",
            "Downloading simpy-4.1.1-py3-none-any.whl (27 kB)\n",
            "Installing collected packages: simpy\n",
            "Successfully installed simpy-4.1.1\n"
          ]
        }
      ],
      "source": [
        "pip install simpy"
      ]
    },
    {
      "cell_type": "code",
      "execution_count": 4,
      "metadata": {
        "id": "Yi9MHNwYOuU6"
      },
      "outputs": [],
      "source": [
        "\"\"\"\n",
        "Simulation of a transportation system between the airport and hotels\n",
        "--------------------------------------------------------------\n",
        "Discrete simulation model using SimPy.\n",
        "\n",
        "Autor: [jpastor]\n",
        "Fecha: 2025-05-24\n",
        "Licencia: MIT\n",
        "Descripción:\n",
        "    This script simulates a system of buses that transport passengers between\n",
        "    an airport and two hotels. The objective is to determine the minimum capacity\n",
        "    per bus that guarantees that no passengers are waiting without being transported.\n",
        "\n",
        "TODO:\n",
        "    - Add detaiiled performance metrics\n",
        "    - Parameterize system configuration\n",
        "    - Use deque instead of list for queuing efficiency\n",
        "    - Encapsulate bus logic in a class\n",
        "    - Properly comment out each logic block\n",
        "    - Add docstrings to key functions\n",
        "    - Parameterize buses for scalability\n",
        "    - Restructure logic to make the code more scalable\n",
        "\n",
        "\"\"\"\n",
        "import simpy\n",
        "import random\n",
        "from collections import deque"
      ]
    },
    {
      "cell_type": "code",
      "source": [
        "SIM_TIME = 60 * 24\n",
        "MEAN_ARRIVAL_TIME_AIRPORT = 2.5\n",
        "MEAN_ARRIVAL_TIME_HOTEL = 5\n",
        "MEAN_BUS_TIME_STATIONS = 20\n",
        "STD_BUS_TIME = 2\n",
        "BUS_START_DELAYS = [0,30]\n",
        "\n",
        "def arrival_airport_p(env, airport_to_hotel1, airport_to_hotel2):\n",
        "    toggle = True\n",
        "    while True:\n",
        "        yield env.timeout(random.expovariate(1 / MEAN_ARRIVAL_TIME_AIRPORT))\n",
        "        if toggle:\n",
        "            airport_to_hotel1.append(1)\n",
        "        else:\n",
        "            airport_to_hotel2.append(1)\n",
        "        toggle = not toggle\n",
        "\n",
        "def arrival_hotel_p(env, cola_h):\n",
        "    while True:\n",
        "        yield env.timeout(random.expovariate(1 / MEAN_ARRIVAL_TIME_HOTEL))\n",
        "        cola_h.append(1)\n",
        "\n",
        "def board_passengers(queue, max_board):\n",
        "    boarded = 0\n",
        "    while queue and boarded < max_board:\n",
        "        queue.popleft()\n",
        "        boarded += 1\n",
        "    return boarded\n",
        "\n",
        "def update_load(boarded, onboard, occupancy, space):\n",
        "    onboard += boarded\n",
        "    occupancy += boarded\n",
        "    space -= boarded\n",
        "    return onboard, occupancy, space    #onboard,occupancy,space updated\n",
        "\n",
        "def unload_passengers(onboard, occupancy):\n",
        "    occupancy = max(occupancy - onboard, 0)\n",
        "    return 0, occupancy  # onboard reset, occupancy updated\n",
        "\n",
        "def bus_trips(env, id,start_delay, capacity, airport_to_hotel1, airport_to_hotel2, hotel1_to_airport, hotel2_to_airport, failures):\n",
        "    yield env.timeout(start_delay)\n",
        "\n",
        "    onboard_H1 = onboard_H2 = 0\n",
        "    onboard_A = 0\n",
        "    occupancy = 0\n",
        "\n",
        "    while True:\n",
        "        # 1. Pick up passengers in airport\n",
        "        space = capacity\n",
        "        total_air_h = len(airport_to_hotel1) + len(airport_to_hotel2)\n",
        "\n",
        "        if total_air_h > space:\n",
        "            failures.append(f\"{env.now:.2f} - {id} left people waiting at Airport\")\n",
        "\n",
        "        to_board_min_H1 = min(space // 2, len(airport_to_hotel1))\n",
        "        boarded_H1 = board_passengers(airport_to_hotel1, to_board_min_H1)\n",
        "        onboard_H1, occupancy, space = update_load(boarded_H1, onboard_H1, occupancy, space)\n",
        "\n",
        "        to_board_min_H2 = min(space, len(airport_to_hotel2))\n",
        "        boarded_H2 = board_passengers(airport_to_hotel2, to_board_min_H2)\n",
        "        onboard_H2, occupancy, space = update_load(boarded_H2, onboard_H2, occupancy, space)\n",
        "\n",
        "\n",
        "        # 2. Airport → Hotel 1\n",
        "        yield env.timeout(max(random.gauss(MEAN_BUS_TIME_STATIONS, STD_BUS_TIME), 0.1))\n",
        "        onboard_H1, occupancy = unload_passengers(onboard_H1, occupancy)\n",
        "        space = capacity - occupancy\n",
        "\n",
        "\n",
        "        if len(hotel1_to_airport) > space:\n",
        "            failures.append(f\"{env.now:.2f} - {id} left people waiting at Hotel 1\")\n",
        "        boarded_from_H1 = board_passengers(hotel1_to_airport, space)\n",
        "        onboard_A, occupancy, space = update_load(boarded_from_H1, onboard_A, occupancy, space)\n",
        "\n",
        "\n",
        "        # 3. Hotel 1 → Hotel 2\n",
        "        yield env.timeout(max(random.gauss(MEAN_BUS_TIME_STATIONS, STD_BUS_TIME), 0.1))\n",
        "        onboard_H2, occupancy = unload_passengers(onboard_H2, occupancy)\n",
        "        space = capacity - occupancy\n",
        "\n",
        "\n",
        "        if len(hotel2_to_airport) > space:\n",
        "            failures.append(f\"{env.now:.2f} - {id} left people waiting at Hotel 2\")\n",
        "        boarded_from_H2 = board_passengers(hotel2_to_airport, space)\n",
        "        onboard_A, occupancy, space = update_load(boarded_from_H2, onboard_A, occupancy, space)\n",
        "\n",
        "\n",
        "        # 4. Hotel 2 → Airport\n",
        "        yield env.timeout(max(random.gauss(MEAN_BUS_TIME_STATIONS, STD_BUS_TIME), 0.1))\n",
        "        onboard_A,occupancy = unload_passengers(onboard_A,occupancy)\n",
        "\n",
        "def simulation(capacity):\n",
        "        env = simpy.Environment()\n",
        "        airport_to_hotel1, airport_to_hotel2 = deque(), deque()\n",
        "        hotel1_to_airport, hotel2_to_airport = deque(), deque()\n",
        "        failures = []\n",
        "\n",
        "        env.process(arrival_airport_p(env, airport_to_hotel1, airport_to_hotel2))\n",
        "        env.process(arrival_hotel_p(env, hotel1_to_airport))\n",
        "        env.process(arrival_hotel_p(env, hotel2_to_airport))\n",
        "        env.process(bus_trips(env, 'Bus1', BUS_START_DELAYS[0],capacity, airport_to_hotel1, airport_to_hotel2, hotel1_to_airport, hotel2_to_airport, failures))\n",
        "        env.process(bus_trips(env, 'Bus2', BUS_START_DELAYS[1],capacity, airport_to_hotel1, airport_to_hotel2, hotel1_to_airport, hotel2_to_airport, failures))\n",
        "\n",
        "        env.run(until=SIM_TIME)\n",
        "        return failures\n",
        "\n",
        "def minimum_capacity(rep=1000, max_cap=100):\n",
        "    for capacity in range(10, max_cap + 1):\n",
        "        sim_success = 0\n",
        "        for _ in range(rep):\n",
        "            failures = simulation(capacity)\n",
        "            if not failures:\n",
        "                sim_success += 1\n",
        "        print(f\"Capacity for {capacity} passengers: {sim_success / rep * 100:.2f}% success rate\")\n",
        "        if sim_success == rep:\n",
        "            return capacity\n",
        "    return None\n",
        "\n",
        "\n",
        "print(\"Minimum capacity per bus:\", minimum_capacity())"
      ],
      "metadata": {
        "colab": {
          "base_uri": "https://localhost:8080/"
        },
        "id": "-uIiazKGCBRz",
        "outputId": "ebaef4ae-910e-440a-bb0d-48f05dc91c61"
      },
      "execution_count": 9,
      "outputs": [
        {
          "output_type": "stream",
          "name": "stdout",
          "text": [
            "Capacity for 10 passengers: 0.00% success rate\n",
            "Capacity for 11 passengers: 0.00% success rate\n",
            "Capacity for 12 passengers: 0.00% success rate\n",
            "Capacity for 13 passengers: 0.00% success rate\n",
            "Capacity for 14 passengers: 0.00% success rate\n",
            "Capacity for 15 passengers: 0.00% success rate\n",
            "Capacity for 16 passengers: 0.00% success rate\n",
            "Capacity for 17 passengers: 0.00% success rate\n",
            "Capacity for 18 passengers: 0.00% success rate\n",
            "Capacity for 19 passengers: 0.10% success rate\n",
            "Capacity for 20 passengers: 0.80% success rate\n",
            "Capacity for 21 passengers: 2.60% success rate\n",
            "Capacity for 22 passengers: 5.00% success rate\n",
            "Capacity for 23 passengers: 11.30% success rate\n",
            "Capacity for 24 passengers: 18.80% success rate\n",
            "Capacity for 25 passengers: 27.40% success rate\n",
            "Capacity for 26 passengers: 34.90% success rate\n",
            "Capacity for 27 passengers: 41.40% success rate\n",
            "Capacity for 28 passengers: 52.40% success rate\n",
            "Capacity for 29 passengers: 62.60% success rate\n",
            "Capacity for 30 passengers: 70.40% success rate\n",
            "Capacity for 31 passengers: 78.40% success rate\n",
            "Capacity for 32 passengers: 85.30% success rate\n",
            "Capacity for 33 passengers: 90.80% success rate\n",
            "Capacity for 34 passengers: 93.00% success rate\n",
            "Capacity for 35 passengers: 94.70% success rate\n",
            "Capacity for 36 passengers: 97.20% success rate\n",
            "Capacity for 37 passengers: 98.40% success rate\n",
            "Capacity for 38 passengers: 99.70% success rate\n",
            "Capacity for 39 passengers: 98.80% success rate\n",
            "Capacity for 40 passengers: 99.90% success rate\n",
            "Capacity for 41 passengers: 99.80% success rate\n",
            "Capacity for 42 passengers: 99.90% success rate\n",
            "Capacity for 43 passengers: 100.00% success rate\n",
            "Minimum capacity per bus: 43\n"
          ]
        }
      ]
    }
  ],
  "metadata": {
    "colab": {
      "provenance": [],
      "authorship_tag": "ABX9TyNrVYsYxhnJoS834UapCSjP",
      "include_colab_link": true
    },
    "kernelspec": {
      "display_name": "Python 3",
      "name": "python3"
    },
    "language_info": {
      "name": "python"
    }
  },
  "nbformat": 4,
  "nbformat_minor": 0
}